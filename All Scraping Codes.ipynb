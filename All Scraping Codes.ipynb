{
 "cells": [
  {
   "cell_type": "code",
   "execution_count": null,
   "id": "c8299fb9-2962-4563-86d6-15ac31e1a529",
   "metadata": {},
   "outputs": [],
   "source": [
    "# Import packages\n",
    "import requests\n",
    "from bs4 import BeautifulSoup\n",
    "import time\n",
    "import json\n",
    "import csv\n",
    "import pandas as pd\n",
    "import os"
   ]
  },
  {
   "cell_type": "markdown",
   "id": "e0b48508-0f43-498c-89c9-d80eba6a40bc",
   "metadata": {},
   "source": [
    "# NOTE\n",
    "\n",
    "It will take **approximately 10 hours to scrape all the data** due to a high delay when loading the The-Numbers.com website"
   ]
  },
  {
   "cell_type": "markdown",
   "id": "d4c8f71b-17f6-43fd-b93a-5744cbd25350",
   "metadata": {},
   "source": [
    "# The-Numbers.com"
   ]
  },
  {
   "cell_type": "markdown",
   "id": "a85825ca-64ed-4009-b5d4-e67c5ea59cdb",
   "metadata": {},
   "source": [
    "## 6500 Movies"
   ]
  },
  {
   "cell_type": "code",
   "execution_count": null,
   "id": "b272b069-0fa2-4740-94af-c31bb11ce06e",
   "metadata": {},
   "outputs": [],
   "source": [
    "def get_data(page_url):\n",
    "    time.sleep(2)\n",
    "    web_request = requests.get(page_url, headers = {'User-agent':'ABC'}).text\n",
    "    soup = BeautifulSoup(web_request)\n",
    "    table = soup.find_all('tr')\n",
    "    j = 0\n",
    "    data_list = []\n",
    "    for movie in table:\n",
    "        if j != 0:\n",
    "            title = movie.find('b').text\n",
    "            release_year = movie.find_all('td')[1].text\n",
    "            production_budget = movie.find_all('td')[3].text\n",
    "            domestic_gross = movie.find_all('td')[4].text\n",
    "            data_list.append(\n",
    "                {\n",
    "                    'title':title,\n",
    "                    'release_year':release_year,\n",
    "                    'production_budget':production_budget,\n",
    "                    'domestic_gross':domestic_gross\n",
    "                })\n",
    "        else:\n",
    "            j = j + 1\n",
    "    return data_list"
   ]
  },
  {
   "cell_type": "code",
   "execution_count": null,
   "id": "cd3d7986-25bc-4be9-89cf-ad785c81a46f",
   "metadata": {},
   "outputs": [],
   "source": [
    "# Generate the list of URLs programmatically\n",
    "base_url = 'https://www.the-numbers.com/movie/budgets/all'\n",
    "page_urls = [base_url] + [f\"{base_url}/{i}\" for i in range(101, 6500, 100)]"
   ]
  },
  {
   "cell_type": "code",
   "execution_count": null,
   "id": "479bb76a-a760-4c67-a102-e8cec82d8ed9",
   "metadata": {},
   "outputs": [],
   "source": [
    "data_movie_list = []\n",
    "\n",
    "for page_url in page_urls:\n",
    "    print(f\"Processing: {page_url}\")\n",
    "    data_movie_list.extend(get_data(page_url))"
   ]
  },
  {
   "cell_type": "code",
   "execution_count": null,
   "id": "047a0bbb-efe1-422e-9755-a1521ba20fbf",
   "metadata": {},
   "outputs": [],
   "source": [
    "with open('../data/the_number_movie_raw_data.csv','w',newline='',encoding='utf-8') as file:\n",
    "    writer = csv.DictWriter(file,fieldnames = ['title','release_year','production_budget','domestic_gross'])\n",
    "    writer.writeheader()\n",
    "    writer.writerows(data_movie_list)"
   ]
  },
  {
   "cell_type": "markdown",
   "id": "294b03c9-2718-456b-af22-538fd5df0a22",
   "metadata": {},
   "source": [
    "## 40000 Movies"
   ]
  },
  {
   "cell_type": "code",
   "execution_count": null,
   "id": "bd12d77f-bd9a-400f-9778-bbe36756c973",
   "metadata": {},
   "outputs": [],
   "source": [
    "def get_data(page_url):\n",
    "    time.sleep(2)\n",
    "    web_request = requests.get(page_url, headers = {'User-agent':'ABC'}, timeout=10).text\n",
    "    soup = BeautifulSoup(web_request)\n",
    "    movie_table = soup.find('tbody').find_all('tr')\n",
    "    data_list = []\n",
    "    for movie in movie_table:\n",
    "        rank = movie.find('td').text\n",
    "        year = movie.find('a').text\n",
    "        title = movie.find('b').text\n",
    "        domestic_gross = movie.find_all('td')[4].text\n",
    "        data_list.append({\n",
    "            'rank':rank,\n",
    "            'year':year,\n",
    "            'title':title,\n",
    "            'domestic_gross':domestic_gross\n",
    "        })\n",
    "    return data_list"
   ]
  },
  {
   "cell_type": "code",
   "execution_count": null,
   "id": "411c0281-0f8c-4eb7-aa18-7ae37729767d",
   "metadata": {},
   "outputs": [],
   "source": [
    "# Generate the list of URLs programmatically\n",
    "base_url = \"https://www.the-numbers.com/box-office-records/worldwide/all-movies/cumulative/all-time\"\n",
    "page_urls = [base_url] + [f\"{base_url}/{i}\" for i in range(101, 40000, 100)]"
   ]
  },
  {
   "cell_type": "code",
   "execution_count": null,
   "id": "39ccb808-22b7-49dd-825f-f5435eeb3a31",
   "metadata": {},
   "outputs": [],
   "source": [
    "data_movie_list = []\n",
    "\n",
    "for page_url in page_urls:\n",
    "    print(f\"Processing: {page_url}\")\n",
    "    data_movie_list.extend(get_data(page_url))"
   ]
  },
  {
   "cell_type": "code",
   "execution_count": null,
   "id": "f52171d2-a0cb-4472-afb9-956dc4c7e3d4",
   "metadata": {},
   "outputs": [],
   "source": [
    "with open('../data/the_number_40000_movie_raw_data.csv','w',newline='',encoding='utf-8') as file:\n",
    "    writer = csv.DictWriter(file,fieldnames = ['rank','year','title','domestic_gross'])\n",
    "    writer.writeheader()\n",
    "    writer.writerows(data_movie_list)"
   ]
  },
  {
   "cell_type": "markdown",
   "id": "33787e05-c007-47b1-999b-4b0f0a06b400",
   "metadata": {},
   "source": [
    "## Franchise Names"
   ]
  },
  {
   "cell_type": "code",
   "execution_count": null,
   "id": "1611a38d-6eee-4c04-a0ba-c39ef1b4d628",
   "metadata": {},
   "outputs": [],
   "source": [
    "def get_data(page_url):\n",
    "    time.sleep(2)\n",
    "    web_request = requests.get(page_url, headers = {'User-agent':'ABC'}, timeout=10).text\n",
    "    soup = BeautifulSoup(web_request)\n",
    "    table = soup.find('table',attrs = {'id':'franchise_overview'}).find_all('tr')\n",
    "    data_list = []\n",
    "    j = 0\n",
    "    for movie in table:\n",
    "        if j != 0:\n",
    "            franchise = movie.find_all('td')[0].text\n",
    "            num_of_movies = movie.find_all('td')[1].text\n",
    "            domestic_gross = movie.find_all('td')[2].text\n",
    "            adjusted_inflation_domestic_gross = movie.find_all('td')[3].text\n",
    "            worldwide_gross = movie.find_all('td')[4].text\n",
    "            first_year = movie.find_all('td')[5].text\n",
    "            last_year = movie.find_all('td')[6].text\n",
    "            num_of_years = movie.find_all('td')[7].text\n",
    "            data_list.append({\n",
    "                'franchise':franchise,\n",
    "                'num_of_movies':num_of_movies,\n",
    "                'domestic_gross':domestic_gross,\n",
    "                'adjusted_inflation_domestic_gross':adjusted_inflation_domestic_gross,\n",
    "                'worldwide_gross':worldwide_gross,\n",
    "                'first_year':first_year,\n",
    "                'last_year':last_year\n",
    "            })\n",
    "        else:\n",
    "            j = j + 1\n",
    "    return data_list"
   ]
  },
  {
   "cell_type": "code",
   "execution_count": null,
   "id": "6057a680-34ad-423c-ad54-38400d1a8619",
   "metadata": {},
   "outputs": [],
   "source": [
    "# Define base URL\n",
    "base_url = \"https://www.the-numbers.com/movies/franchises#franchise_overview=od3\"\n",
    "page_urls = [base_url] + [f\"https://www.the-numbers.com/movies/franchises#franchise_overview=p{i}:od3\" for i in range(1, 34)]"
   ]
  },
  {
   "cell_type": "code",
   "execution_count": null,
   "id": "3a0524d5-c8ba-4fe2-bb29-5d6b96ae65c6",
   "metadata": {},
   "outputs": [],
   "source": [
    "data_movie_list = []\n",
    "\n",
    "for page_url in page_urls:\n",
    "    print(f\"Processing: {page_url}\")\n",
    "    data_movie_list.extend(get_data(page_url))"
   ]
  },
  {
   "cell_type": "code",
   "execution_count": null,
   "id": "0dc240df-fe4f-4395-8fa3-9840467aea32",
   "metadata": {},
   "outputs": [],
   "source": [
    "with open('../data/the_number_franchise_raw_data.csv','w',newline='',encoding='utf-8') as file:\n",
    "    writer = csv.DictWriter(file,fieldnames = ['franchise','num_of_movies','domestic_gross',\n",
    "                                               'adjusted_inflation_domestic_gross','worldwide_gross','first_year','last_year'])\n",
    "    writer.writeheader()\n",
    "    writer.writerows(data_movie_list)"
   ]
  },
  {
   "cell_type": "markdown",
   "id": "7fee1f35-802f-4e8e-ae41-514dff18f110",
   "metadata": {},
   "source": [
    "## Franchise Movies"
   ]
  },
  {
   "cell_type": "code",
   "execution_count": null,
   "id": "911f21e9-7f89-4e28-a237-1b28f8f16216",
   "metadata": {},
   "outputs": [],
   "source": [
    "the_numbers_franchise_df = pd.read_csv('../data/the_number_franchise_raw_data.csv')"
   ]
  },
  {
   "cell_type": "code",
   "execution_count": null,
   "id": "0a76ab49-4159-4fdb-90b2-02d0ba406733",
   "metadata": {},
   "outputs": [],
   "source": [
    "the_numbers_franchise_df.drop_duplicates(keep = 'first',inplace=True)"
   ]
  },
  {
   "cell_type": "code",
   "execution_count": null,
   "id": "0435156a-1323-49bc-af67-3a42f6560933",
   "metadata": {},
   "outputs": [],
   "source": [
    "the_numbers_franchise_df.loc[the_numbers_franchise_df['franchise'].str.contains(\"'s\")]"
   ]
  },
  {
   "cell_type": "code",
   "execution_count": null,
   "id": "5762c0eb-00e8-4ff2-8f0a-83fb8ccf2ddb",
   "metadata": {},
   "outputs": [],
   "source": [
    "# Remove all occurrences of \"'s\" from the 'franchise' column\n",
    "the_numbers_franchise_df[\"franchise\"] = the_numbers_franchise_df[\"franchise\"].str.replace(\"'s\", \"s\", regex=True)"
   ]
  },
  {
   "cell_type": "code",
   "execution_count": null,
   "id": "f6495246-bc7d-477d-b9b4-f89bd476d6ab",
   "metadata": {},
   "outputs": [],
   "source": [
    "# Remove all occurrences of \":\" from the 'franchise' column\n",
    "the_numbers_franchise_df[\"franchise\"] = the_numbers_franchise_df[\"franchise\"].str.replace(\":\", \"\", regex=True)"
   ]
  },
  {
   "cell_type": "code",
   "execution_count": null,
   "id": "2dbb86d3-cd53-4057-aa90-4fa1d8c8f1ce",
   "metadata": {},
   "outputs": [],
   "source": [
    "the_numbers_franchise_df['franchise'] = the_numbers_franchise_df['franchise'].replace(\"Sony’s Marvel Universe\", \"Sonys Marvel Universe\")"
   ]
  },
  {
   "cell_type": "code",
   "execution_count": null,
   "id": "310e5d1c-65b6-46d6-8c76-7ed08a017929",
   "metadata": {},
   "outputs": [],
   "source": [
    "the_numbers_franchise_df['franchise'] = the_numbers_franchise_df['franchise'].replace(\"Father Chuck O'Malley\", \"Father Chuck O Malley\")"
   ]
  },
  {
   "cell_type": "code",
   "execution_count": null,
   "id": "710f0d23-cae1-4bb9-b7b3-9f9cfa13b6ac",
   "metadata": {},
   "outputs": [],
   "source": [
    "the_numbers_franchise_df['franchise'] = the_numbers_franchise_df['franchise'].replace(\"Monsters, Inc.\", \"Monsters Inc\")"
   ]
  },
  {
   "cell_type": "code",
   "execution_count": null,
   "id": "a7bd1fc7-3400-48a6-a352-2daf2e69a47f",
   "metadata": {},
   "outputs": [],
   "source": [
    "the_numbers_franchise_df['franchise'] = the_numbers_franchise_df['franchise'].replace(\"Food, Inc.\", \"Food Inc\")"
   ]
  },
  {
   "cell_type": "code",
   "execution_count": null,
   "id": "04b8c7e1-a995-4866-adc5-c95c9f3c28a4",
   "metadata": {},
   "outputs": [],
   "source": [
    "the_numbers_franchise_df['franchise'] = the_numbers_franchise_df['franchise'].replace(\"Wreck-It Ralph\", \"Wreck-It-Ralph\")"
   ]
  },
  {
   "cell_type": "code",
   "execution_count": null,
   "id": "a3a8133d-570a-4102-82bf-1d5399f4c633",
   "metadata": {},
   "outputs": [],
   "source": [
    "the_numbers_franchise_df['franchise'] = the_numbers_franchise_df['franchise'].replace(\"G.I. Joe\", \"G I Joe\")"
   ]
  },
  {
   "cell_type": "code",
   "execution_count": null,
   "id": "66cc1273-e3a9-41d0-ba8a-22b18e41607f",
   "metadata": {},
   "outputs": [],
   "source": [
    "the_numbers_franchise_df['franchise'] = the_numbers_franchise_df['franchise'].replace(\"Oh, God!\", \"Oh God\")"
   ]
  },
  {
   "cell_type": "code",
   "execution_count": null,
   "id": "cdbe9ccf-6197-423b-97e6-e0f12ec5730e",
   "metadata": {},
   "outputs": [],
   "source": [
    "the_numbers_franchise_df['franchise'] = the_numbers_franchise_df['franchise'].replace(\"Daddy’s Home\", \"Daddys Home\")"
   ]
  },
  {
   "cell_type": "code",
   "execution_count": null,
   "id": "ff48e19e-9b9d-44f5-a130-28a3dc0a7a32",
   "metadata": {},
   "outputs": [],
   "source": [
    "the_numbers_franchise_df['franchise'] = the_numbers_franchise_df['franchise'].replace(\"Breakin'\", \"Breakin\")"
   ]
  },
  {
   "cell_type": "code",
   "execution_count": null,
   "id": "bb0876da-2d96-437a-ac90-450417ef5927",
   "metadata": {},
   "outputs": [],
   "source": [
    "the_numbers_franchise_df['franchise'] = the_numbers_franchise_df['franchise'].replace(\"Don’t Breathe\", \"Dont Breathe\")"
   ]
  },
  {
   "cell_type": "code",
   "execution_count": null,
   "id": "719a10e1-ee1a-47f4-90b5-f9b385fb3cee",
   "metadata": {},
   "outputs": [],
   "source": [
    "the_numbers_franchise_df['franchise'] = the_numbers_franchise_df['franchise'].replace(\"God’s Not Dead\", \"Gods Not Dead\")"
   ]
  },
  {
   "cell_type": "code",
   "execution_count": null,
   "id": "bbc37dc8-e198-4ee1-8601-1b429b987a18",
   "metadata": {},
   "outputs": [],
   "source": [
    "the_numbers_franchise_df['franchise'] = the_numbers_franchise_df['franchise'].replace(\"Nim’s Island\", \"Nims Island\")"
   ]
  },
  {
   "cell_type": "code",
   "execution_count": null,
   "id": "d55c6a70-7f91-4ed5-8c82-d9d8d73fe218",
   "metadata": {},
   "outputs": [],
   "source": [
    "the_numbers_franchise_df['franchise'] = the_numbers_franchise_df['franchise'].replace(\"House of 1,000 Corpses\", \"House of 1000 Corpses\")"
   ]
  },
  {
   "cell_type": "code",
   "execution_count": null,
   "id": "175e2123-c86c-4115-beb5-99ac64b6f0c1",
   "metadata": {},
   "outputs": [],
   "source": [
    "the_numbers_franchise_df['franchise'] = the_numbers_franchise_df['franchise'].replace(\"R.I.P.D\", \"R I P D\")"
   ]
  },
  {
   "cell_type": "code",
   "execution_count": null,
   "id": "27e1bcdf-90b3-4dff-a5bc-53eba203c8b2",
   "metadata": {},
   "outputs": [],
   "source": [
    "the_numbers_franchise_df['franchise'] = the_numbers_franchise_df['franchise'].replace(\"Surfs Up\", \"Surf s Up\")"
   ]
  },
  {
   "cell_type": "code",
   "execution_count": null,
   "id": "d6d46357-edda-4c97-8fd0-2044e8f00888",
   "metadata": {},
   "outputs": [],
   "source": [
    "the_numbers_franchise_df['franchise'] = the_numbers_franchise_df['franchise'].replace(\"Happily N'Ever After\", \"Happily Never After\")"
   ]
  },
  {
   "cell_type": "code",
   "execution_count": null,
   "id": "bd5f6c1d-7f98-4cd8-8630-3d0f68f8fb17",
   "metadata": {},
   "outputs": [],
   "source": [
    "the_numbers_franchise_df['franchise'] = the_numbers_franchise_df['franchise'].replace(\"C.H.U.D.\", \"C H U D\")"
   ]
  },
  {
   "cell_type": "code",
   "execution_count": null,
   "id": "8c0ccc30-aa6b-4862-b6f1-a3b1ebdc6b87",
   "metadata": {},
   "outputs": [],
   "source": [
    "the_numbers_franchise_df['franchise'] = the_numbers_franchise_df['franchise'].replace(\"F/X\", \"FX\")"
   ]
  },
  {
   "cell_type": "code",
   "execution_count": null,
   "id": "89451b45-15aa-45c2-a048-84335ce35281",
   "metadata": {},
   "outputs": [],
   "source": [
    "the_numbers_franchise_df['franchise'] = the_numbers_franchise_df['franchise'].replace(\"A Dog’s Purpose\", \"Dogs Purpose A\")"
   ]
  },
  {
   "cell_type": "code",
   "execution_count": null,
   "id": "f07728fe-9a9f-4633-b121-d18147ee20ea",
   "metadata": {},
   "outputs": [],
   "source": [
    "the_numbers_franchise_df['franchise'] = the_numbers_franchise_df['franchise'].replace(\"A Fish Called Wanda\", \"Fish Called Wanda A\")"
   ]
  },
  {
   "cell_type": "code",
   "execution_count": null,
   "id": "8a735e4c-b2a7-4934-9112-255d80772fe8",
   "metadata": {},
   "outputs": [],
   "source": [
    "the_numbers_franchise_df['franchise'] = the_numbers_franchise_df['franchise'].replace(\"The Emperor’s New Groove\", \"Emperors New Groove The\")"
   ]
  },
  {
   "cell_type": "code",
   "execution_count": null,
   "id": "124b5c58-2917-4bd0-a183-f5321d73d411",
   "metadata": {},
   "outputs": [],
   "source": [
    "the_numbers_franchise_df['franchise'] = the_numbers_franchise_df['franchise'].replace(\"Crouching Tiger, Hidden Dragon\", \"Crouching Tiger Hidden Dragon\")"
   ]
  },
  {
   "cell_type": "code",
   "execution_count": null,
   "id": "5b4e0a08-bc2f-4dcd-ab70-c6304f5d5cf6",
   "metadata": {},
   "outputs": [],
   "source": [
    "the_numbers_franchise_df['franchise'] = the_numbers_franchise_df['franchise'].replace(\"No Retreat, No Surrender\", \"No Retreat No Surrender\")"
   ]
  },
  {
   "cell_type": "code",
   "execution_count": null,
   "id": "da9dc188-1ea6-48c4-a9bd-cc6205a29204",
   "metadata": {},
   "outputs": [],
   "source": [
    "def reverse_title_words(title):\n",
    "    words = title.split()\n",
    "    if words[0] == \"The\":\n",
    "        return \" \".join(words[1:] + [words[0]])  # Move \"The\" to the end\n",
    "    return title  # Keep other entries unchanged"
   ]
  },
  {
   "cell_type": "code",
   "execution_count": null,
   "id": "97b7521c-da18-45db-81dd-92875d7c15ec",
   "metadata": {},
   "outputs": [],
   "source": [
    "# Apply the function to the 'franchise' column\n",
    "the_numbers_franchise_df['franchise'] = the_numbers_franchise_df['franchise'].apply(reverse_title_words)"
   ]
  },
  {
   "cell_type": "code",
   "execution_count": null,
   "id": "1830763e-b0d6-4efc-b34d-e58c1a6da703",
   "metadata": {},
   "outputs": [],
   "source": [
    "the_numbers_franchise_df.loc[the_numbers_franchise_df['franchise'].str.contains(\"Marine\")]"
   ]
  },
  {
   "cell_type": "code",
   "execution_count": null,
   "id": "5742e1dd-d8f1-4433-9bc8-3f0de527c721",
   "metadata": {},
   "outputs": [],
   "source": [
    "the_numbers_franchise_df['franchise'] = the_numbers_franchise_df['franchise'].replace(\"Sandlot The\", \"The Sandlot\")"
   ]
  },
  {
   "cell_type": "code",
   "execution_count": null,
   "id": "191a7b81-c724-49c5-8264-b124d7ee0540",
   "metadata": {},
   "outputs": [],
   "source": [
    "the_numbers_franchise_df['franchise'] = the_numbers_franchise_df['franchise'].replace(\"Marine The\", \"The Marine\")"
   ]
  },
  {
   "cell_type": "code",
   "execution_count": null,
   "id": "1ee43849-e892-4d32-94fe-a049e6dd2cf6",
   "metadata": {},
   "outputs": [],
   "source": [
    "the_numbers_franchise_df['franchise'] = the_numbers_franchise_df['franchise'].replace(\"Art of War The\", \"The Art of War\")"
   ]
  },
  {
   "cell_type": "code",
   "execution_count": null,
   "id": "a30061d4-6f83-4a35-ae67-f2d5e4714fba",
   "metadata": {},
   "outputs": [],
   "source": [
    "the_numbers_franchise_df['franchise'] = the_numbers_franchise_df['franchise'].replace(\"An Inconvenient Truth\", \"Inconvenient Truth An\")"
   ]
  },
  {
   "cell_type": "code",
   "execution_count": null,
   "id": "0584464c-d321-48d2-b933-9bdba7c37372",
   "metadata": {},
   "outputs": [],
   "source": [
    "the_numbers_franchise_df['franchise'] = the_numbers_franchise_df['franchise'].replace(\"Kenneth Branaghs Hercule Poirot\", \"Kenneth Branagh s Hercule Poirot\")"
   ]
  },
  {
   "cell_type": "code",
   "execution_count": null,
   "id": "6e307764-c28e-40b2-b29d-7bb9a2a57b6d",
   "metadata": {},
   "outputs": [],
   "source": [
    "the_numbers_franchise_df['franchise'] = the_numbers_franchise_df['franchise'].replace(\"Hitman’s Bodguard The\", \"Hitmans Bodguard The\")"
   ]
  },
  {
   "cell_type": "code",
   "execution_count": null,
   "id": "3c86f627-0c0e-43fe-b5a6-e069805caa33",
   "metadata": {},
   "outputs": [],
   "source": [
    "the_numbers_franchise_df['franchise'] = the_numbers_franchise_df['franchise'].replace(\"Fox and the Hound The\", \"The Fox and the Hound\")"
   ]
  },
  {
   "cell_type": "code",
   "execution_count": null,
   "id": "8afb4515-dc79-4054-92fa-52fcfbfb6c33",
   "metadata": {},
   "outputs": [],
   "source": [
    "the_numbers_franchise_df = the_numbers_franchise_df.loc[the_numbers_franchise_df['franchise'] != \"The Poseidon Adventure\"]"
   ]
  },
  {
   "cell_type": "code",
   "execution_count": null,
   "id": "4cdb727d-6623-4be0-95ed-325aa716444f",
   "metadata": {},
   "outputs": [],
   "source": [
    "the_numbers_franchise_df = the_numbers_franchise_df.loc[the_numbers_franchise_df['franchise'] != \"Road To …\"]"
   ]
  },
  {
   "cell_type": "code",
   "execution_count": null,
   "id": "ce9f8d43-29f3-464b-a7ec-f7c049be0552",
   "metadata": {},
   "outputs": [],
   "source": [
    "the_numbers_franchise_df = the_numbers_franchise_df.loc[the_numbers_franchise_df['franchise'] != \"V/H/S\"]"
   ]
  },
  {
   "cell_type": "code",
   "execution_count": null,
   "id": "5636493d-9f0e-4813-8041-b948ea9ae09f",
   "metadata": {},
   "outputs": [],
   "source": [
    "the_numbers_franchise_df = the_numbers_franchise_df.loc[the_numbers_franchise_df['franchise'] != \"Bill & Ted\"]"
   ]
  },
  {
   "cell_type": "code",
   "execution_count": null,
   "id": "e4d1a747-e1b2-439d-9968-6077844df4bd",
   "metadata": {},
   "outputs": [],
   "source": [
    "the_numbers_franchise_df = the_numbers_franchise_df.loc[the_numbers_franchise_df['franchise'] != \"The Emperor’s New Groove\"]"
   ]
  },
  {
   "cell_type": "code",
   "execution_count": null,
   "id": "98d67ef6-f4ef-4c67-9ab1-0078792f5e1c",
   "metadata": {},
   "outputs": [],
   "source": [
    "the_numbers_franchise_df = the_numbers_franchise_df.loc[the_numbers_franchise_df['franchise'] != \"Harold & Kumar\"]"
   ]
  },
  {
   "cell_type": "code",
   "execution_count": null,
   "id": "2c9fce92-a64f-4e5a-9141-e581e548efc1",
   "metadata": {},
   "outputs": [],
   "source": [
    "the_numbers_franchise_df = the_numbers_franchise_df.loc[the_numbers_franchise_df['franchise'] != \"The Hitman’s Bodguard\"]"
   ]
  },
  {
   "cell_type": "code",
   "execution_count": null,
   "id": "08ff711b-5c12-4261-9163-94c4bb701445",
   "metadata": {},
   "outputs": [],
   "source": [
    "the_numbers_franchise_df = the_numbers_franchise_df.loc[the_numbers_franchise_df['franchise'] != \"Dungeons & Dragons\"]"
   ]
  },
  {
   "cell_type": "code",
   "execution_count": null,
   "id": "40230cd0-5be3-4c6b-aa93-465fc6e7f9b7",
   "metadata": {},
   "outputs": [],
   "source": [
    "the_numbers_franchise_df = the_numbers_franchise_df.loc[the_numbers_franchise_df['franchise'] != \"Stepfather, The\"]"
   ]
  },
  {
   "cell_type": "code",
   "execution_count": null,
   "id": "6addf4da-807e-44be-a623-5be1b57f9615",
   "metadata": {},
   "outputs": [],
   "source": [
    "the_numbers_franchise_df = the_numbers_franchise_df.loc[the_numbers_franchise_df['franchise'] != \"Haikyuu!!\"]"
   ]
  },
  {
   "cell_type": "code",
   "execution_count": null,
   "id": "00b53de5-897c-4217-9a62-833a86e2721e",
   "metadata": {},
   "outputs": [],
   "source": [
    "the_numbers_franchise_df = the_numbers_franchise_df.loc[the_numbers_franchise_df['franchise'] != \"Cheech & Chong\"]"
   ]
  },
  {
   "cell_type": "code",
   "execution_count": null,
   "id": "2a9aa720-3c9c-4440-bad2-2cd69d7fdb30",
   "metadata": {},
   "outputs": [],
   "source": [
    "the_numbers_franchise_df = the_numbers_franchise_df.loc[the_numbers_franchise_df['franchise'] != \"A Quiet Place\"]"
   ]
  },
  {
   "cell_type": "code",
   "execution_count": null,
   "id": "fe7aae0f-6c17-49d1-b29b-c6cf1c2243fb",
   "metadata": {},
   "outputs": [],
   "source": [
    "the_numbers_franchise_df = the_numbers_franchise_df.loc[the_numbers_franchise_df['franchise'] != \"Rugrats Movie\"]"
   ]
  },
  {
   "cell_type": "code",
   "execution_count": null,
   "id": "6c9c2fe5-e2b9-46a7-aff3-4f9c22ace177",
   "metadata": {},
   "outputs": [],
   "source": [
    "the_numbers_franchise_df = the_numbers_franchise_df.loc[the_numbers_franchise_df['franchise'] != \"Don\"]"
   ]
  },
  {
   "cell_type": "code",
   "execution_count": null,
   "id": "93be824d-1b80-4d3a-844c-0917957a2dd6",
   "metadata": {},
   "outputs": [],
   "source": [
    "the_numbers_franchise_df = the_numbers_franchise_df.loc[the_numbers_franchise_df['franchise'] != \"Sinister\"]"
   ]
  },
  {
   "cell_type": "code",
   "execution_count": null,
   "id": "ba119e57-57a6-49b1-b435-d64f8c88548f",
   "metadata": {},
   "outputs": [],
   "source": [
    "the_numbers_franchise_df = the_numbers_franchise_df.loc[the_numbers_franchise_df['franchise'] != \"Donald Hamiltons Matt Helm\"]"
   ]
  },
  {
   "cell_type": "code",
   "execution_count": null,
   "id": "bf4eb0fe-fbc7-4c7b-b5e5-fa0f9347ccc2",
   "metadata": {},
   "outputs": [],
   "source": [
    "the_numbers_franchise_df = the_numbers_franchise_df.loc[the_numbers_franchise_df['franchise'] != \"Garry Marshalls Holiday Franchise\"]"
   ]
  },
  {
   "cell_type": "code",
   "execution_count": null,
   "id": "552c98c1-a160-45a5-a4fc-6cf8bad0c377",
   "metadata": {},
   "outputs": [],
   "source": [
    "the_numbers_franchise_df = the_numbers_franchise_df.loc[the_numbers_franchise_df['franchise'] != \"Every Which Way But Loose\"]"
   ]
  },
  {
   "cell_type": "code",
   "execution_count": null,
   "id": "e4647694-f183-4b9b-bb71-5078753e0da4",
   "metadata": {},
   "outputs": [],
   "source": [
    "# Exclude franchises that have only 1 movie\n",
    "the_numbers_franchise_df = the_numbers_franchise_df.loc[the_numbers_franchise_df['num_of_movies'] != 1]"
   ]
  },
  {
   "cell_type": "code",
   "execution_count": null,
   "id": "61e4b1c1-5640-4ac2-89ad-e1bb7f54873a",
   "metadata": {},
   "outputs": [],
   "source": [
    "def reverse_title_words_2(title):\n",
    "    words = title.split()\n",
    "    if words[0] == \"A\":\n",
    "        return \" \".join(words[1:] + [words[0]])  # Move \"The\" to the end\n",
    "    return title  # Keep other entries unchanged"
   ]
  },
  {
   "cell_type": "code",
   "execution_count": null,
   "id": "2de2bc17-40cc-406c-acc1-ef371355cba7",
   "metadata": {},
   "outputs": [],
   "source": [
    "# Apply the function to the 'franchise' column\n",
    "the_numbers_franchise_df['franchise'] = the_numbers_franchise_df['franchise'].apply(reverse_title_words_2)"
   ]
  },
  {
   "cell_type": "code",
   "execution_count": null,
   "id": "b7df2798-e76b-40eb-9421-c08d13a3f9b3",
   "metadata": {},
   "outputs": [],
   "source": [
    "the_numbers_franchise_df.loc[the_numbers_franchise_df['franchise'].str.contains(\"/\")]"
   ]
  },
  {
   "cell_type": "code",
   "execution_count": null,
   "id": "d164d256-4d36-4cfe-a9fb-babeabede12e",
   "metadata": {},
   "outputs": [],
   "source": [
    "the_numbers_franchise_df['domestic_gross'] = the_numbers_franchise_df['domestic_gross'].replace({'\\$':'',',':''}, regex=True).astype(float)"
   ]
  },
  {
   "cell_type": "code",
   "execution_count": null,
   "id": "4bbff9f8-6b44-480b-9c7c-ef878212471d",
   "metadata": {},
   "outputs": [],
   "source": [
    "the_numbers_franchise_df['adjusted_inflation_domestic_gross'] = the_numbers_franchise_df['adjusted_inflation_domestic_gross'].replace({'\\$':'',',':''}, regex=True).astype(float)"
   ]
  },
  {
   "cell_type": "code",
   "execution_count": null,
   "id": "44971e69-cdf6-42bf-bde9-989fec392842",
   "metadata": {},
   "outputs": [],
   "source": [
    "the_numbers_franchise_df['worldwide_gross'] = the_numbers_franchise_df['worldwide_gross'].replace({'\\$':'',',':''}, regex=True).astype(float)"
   ]
  },
  {
   "cell_type": "code",
   "execution_count": null,
   "id": "d67ca604-c132-44ed-b6e5-222e5782f1f0",
   "metadata": {},
   "outputs": [],
   "source": [
    "# Exclude franchises that have adjusted_inflation_domestic_gross equal to 0 or NaN\n",
    "the_numbers_franchise_df = the_numbers_franchise_df.loc[\n",
    "    (the_numbers_franchise_df['adjusted_inflation_domestic_gross'] != 0) &\n",
    "    (~the_numbers_franchise_df['adjusted_inflation_domestic_gross'].isna())\n",
    "]"
   ]
  },
  {
   "cell_type": "code",
   "execution_count": null,
   "id": "06cf295c-ff8d-4edf-af02-42c2a2cfe0a5",
   "metadata": {},
   "outputs": [],
   "source": [
    "the_numbers_franchise_df['average_domestic_gross'] = the_numbers_franchise_df['domestic_gross'] / the_numbers_franchise_df['num_of_movies']"
   ]
  },
  {
   "cell_type": "code",
   "execution_count": null,
   "id": "5c050293-0b56-493f-a346-d8e44136d6d1",
   "metadata": {},
   "outputs": [],
   "source": [
    "# Exclude franchises that have average domestic_gross lower than 1,000,000\n",
    "the_numbers_franchise_df = the_numbers_franchise_df.loc[\n",
    "    the_numbers_franchise_df['average_domestic_gross'] > 1000000\n",
    "]"
   ]
  },
  {
   "cell_type": "code",
   "execution_count": null,
   "id": "3dd2be89-27d6-43ee-814b-f6e0609e751c",
   "metadata": {},
   "outputs": [],
   "source": [
    "# Function to transform franchise names\n",
    "def transform_franchise(name):\n",
    "    if \"-\" in name:\n",
    "        return name  # Keep as is if already contains '-'\n",
    "    return \"-\".join(name.split())  # Replace spaces with '-'"
   ]
  },
  {
   "cell_type": "code",
   "execution_count": null,
   "id": "e207ffba-a2f9-4e6d-aa46-c712ff71a715",
   "metadata": {},
   "outputs": [],
   "source": [
    "# Apply transformation\n",
    "the_numbers_franchise_df[\"franchise_transform\"] = the_numbers_franchise_df[\"franchise\"].astype(str).apply(transform_franchise)"
   ]
  },
  {
   "cell_type": "code",
   "execution_count": null,
   "id": "017e48aa-1798-4f54-b04f-e80a92d388c5",
   "metadata": {},
   "outputs": [],
   "source": [
    "the_numbers_franchise_df = the_numbers_franchise_df[['franchise','franchise_transform']]"
   ]
  },
  {
   "cell_type": "code",
   "execution_count": null,
   "id": "c8d300ca-1934-42fe-a899-747cc230711d",
   "metadata": {},
   "outputs": [],
   "source": [
    "# Generate franchise URLs\n",
    "the_numbers_franchise_df[\"franchise_url\"] = the_numbers_franchise_df[\"franchise_transform\"].apply(\n",
    "    lambda x: f\"https://www.the-numbers.com/movies/franchise/{x}#tab=summary\"\n",
    ")"
   ]
  },
  {
   "cell_type": "code",
   "execution_count": null,
   "id": "c5cc448d-fea8-4169-8b8a-43fa476c8fe8",
   "metadata": {},
   "outputs": [],
   "source": [
    "# File path\n",
    "file_path = '../data/the_number_franchise_details.csv'"
   ]
  },
  {
   "cell_type": "code",
   "execution_count": null,
   "id": "5a44ee82-21b7-454a-9fe9-eda97cb6af6d",
   "metadata": {},
   "outputs": [],
   "source": [
    "# Function to read existing data from CSV\n",
    "def load_existing_data(file_path):\n",
    "    existing_data = set()\n",
    "    if os.path.exists(file_path):\n",
    "        with open(file_path, 'r', encoding='utf-8') as file:\n",
    "            reader = csv.DictReader(file)\n",
    "            for row in reader:\n",
    "                existing_data.add(row['title'])  # Assuming title is unique\n",
    "    return existing_data"
   ]
  },
  {
   "cell_type": "code",
   "execution_count": null,
   "id": "afdac11c-f3d7-421b-9175-acf4c6276086",
   "metadata": {},
   "outputs": [],
   "source": [
    "# Function to scrape data\n",
    "def get_data(page_url):\n",
    "    time.sleep(2)\n",
    "    web_request = requests.get(page_url, headers={'User-agent': 'DXYZ_2506'}, timeout=300).text\n",
    "    soup = BeautifulSoup(web_request, 'html.parser')\n",
    "\n",
    "    table = soup.find('table', attrs={'id': 'franchise_movies_overview'}).find('tbody').find_all('tr')\n",
    "    data_list = []\n",
    "\n",
    "    for movie in table:\n",
    "        release_date = movie.find_all('td')[0].text.strip()\n",
    "        title = movie.find_all('td')[1].text.strip()\n",
    "        production_budget = movie.find_all('td')[2].text.strip()\n",
    "        domestic_gross = movie.find_all('td')[4].text.strip()\n",
    "\n",
    "        data_list.append({\n",
    "            'release_date': release_date,\n",
    "            'title': title,\n",
    "            'production_budget': production_budget,\n",
    "            'domestic_gross': domestic_gross\n",
    "        })\n",
    "\n",
    "    return data_list"
   ]
  },
  {
   "cell_type": "code",
   "execution_count": null,
   "id": "f7cd07a6-8fbc-4c39-9e95-569db6786947",
   "metadata": {},
   "outputs": [],
   "source": [
    "# Load existing data\n",
    "existing_titles = load_existing_data(file_path)"
   ]
  },
  {
   "cell_type": "code",
   "execution_count": null,
   "id": "9971fd5a-1205-4822-a68a-f7ddb29f2fbe",
   "metadata": {},
   "outputs": [],
   "source": [
    "# Create a list of unique franchise URLs\n",
    "page_urls = the_numbers_franchise_df[\"franchise_url\"].unique().tolist()"
   ]
  },
  {
   "cell_type": "code",
   "execution_count": null,
   "id": "3cbade51-84ab-497e-b6f1-bb35bb437ec6",
   "metadata": {},
   "outputs": [],
   "source": [
    "# Open CSV in append mode\n",
    "with open(file_path, 'a', newline='', encoding='utf-8') as file:\n",
    "    writer = csv.DictWriter(file, fieldnames=['release_date', 'title', 'production_budget', 'domestic_gross'])\n",
    "\n",
    "    # If file is new, write header\n",
    "    if os.stat(file_path).st_size == 0:\n",
    "        writer.writeheader()\n",
    "\n",
    "    # Iterate over page URLs\n",
    "    for page_url in page_urls:\n",
    "        print(f\"Processing: {page_url}\")\n",
    "        new_data = get_data(page_url)\n",
    "\n",
    "        for movie in new_data:\n",
    "            if movie['title'] not in existing_titles:\n",
    "                writer.writerow(movie)\n",
    "                existing_titles.add(movie['title'])  # Update existing data set\n",
    "            else:\n",
    "                print(f\"Skipping {movie['title']} (Already scraped)\")"
   ]
  },
  {
   "cell_type": "markdown",
   "id": "cde3a3dd-921b-4e0d-8acd-c72e8019abe9",
   "metadata": {},
   "source": [
    "## Cast Data"
   ]
  },
  {
   "cell_type": "markdown",
   "id": "02932a96-0b45-4f07-81cd-18ef0e23bd6b",
   "metadata": {},
   "source": [
    "### Leading Cast"
   ]
  },
  {
   "cell_type": "code",
   "execution_count": null,
   "id": "fff0303d-7a4a-4a15-97cc-e98670a2d5d4",
   "metadata": {},
   "outputs": [],
   "source": [
    "def get_data(page_url):\n",
    "    time.sleep(2)\n",
    "    web_request = requests.get(page_url, headers = {'User-agent':'ABC'}).text\n",
    "    soup = BeautifulSoup(web_request)\n",
    "    table = soup.find('tbody').find_all('tr')\n",
    "    data_list = []\n",
    "    for actor in table:\n",
    "        name = actor.find('b').text\n",
    "        domestic_gross = actor.find_all('td')[2].text\n",
    "        num_movies = actor.find_all('td')[3].text\n",
    "        avg_gross = actor.find_all('td')[4].text\n",
    "        data_list.append({\n",
    "            'name':name,\n",
    "            'domestic_gross':domestic_gross,\n",
    "            'num_movies':num_movies,\n",
    "            'avg_gross':avg_gross\n",
    "        })\n",
    "    return data_list"
   ]
  },
  {
   "cell_type": "code",
   "execution_count": null,
   "id": "4b76f59d-6483-4858-a67e-f6d02228ac38",
   "metadata": {},
   "outputs": [],
   "source": [
    "# Generate the list of URLs programmatically\n",
    "base_url = 'https://www.the-numbers.com/box-office-star-records/domestic/lifetime-acting/top-grossing-leading-stars'\n",
    "page_urls = [base_url] + [f'{base_url}/{i}' for i in range(101,9900,100)]"
   ]
  },
  {
   "cell_type": "code",
   "execution_count": null,
   "id": "ee186e6f-9a9c-48a5-b612-908a1c27850f",
   "metadata": {},
   "outputs": [],
   "source": [
    "data_leading_list = []\n",
    "\n",
    "for page_url in page_urls:\n",
    "    print(f\"Processing: {page_url}\")\n",
    "    data_leading_list.extend(get_data(page_url))"
   ]
  },
  {
   "cell_type": "code",
   "execution_count": null,
   "id": "ea9562a2-b249-4a52-bb12-64948a9df519",
   "metadata": {},
   "outputs": [],
   "source": [
    "with open('../data/the_number_leading_cast_raw_data.csv','w',newline='',encoding='utf-8') as file:\n",
    "    writer = csv.DictWriter(file,fieldnames = ['name','domestic_gross','num_movies','avg_gross'])\n",
    "    writer.writeheader()\n",
    "    writer.writerows(data_leading_list)"
   ]
  },
  {
   "cell_type": "markdown",
   "id": "4bb46914-b770-4304-b51a-9c25fd07e854",
   "metadata": {},
   "source": [
    "### Supporting Cast"
   ]
  },
  {
   "cell_type": "code",
   "execution_count": null,
   "id": "1b7c0d12-1211-4569-974a-976ad37d3843",
   "metadata": {},
   "outputs": [],
   "source": [
    "def get_data(page_url):\n",
    "    time.sleep(2)\n",
    "    web_request = requests.get(page_url, headers = {'User-agent':'ABC'}).text\n",
    "    soup = BeautifulSoup(web_request)\n",
    "    table = soup.find('tbody').find_all('tr')\n",
    "    data_list = []\n",
    "    for actor in table:\n",
    "        name = actor.find('b').text\n",
    "        domestic_gross = actor.find_all('td')[2].text\n",
    "        num_movies = actor.find_all('td')[3].text\n",
    "        avg_gross = actor.find_all('td')[4].text\n",
    "        data_list.append({\n",
    "            'name':name,\n",
    "            'domestic_gross':domestic_gross,\n",
    "            'num_movies':num_movies,\n",
    "            'avg_gross':avg_gross\n",
    "        })\n",
    "    return data_list"
   ]
  },
  {
   "cell_type": "code",
   "execution_count": null,
   "id": "8b2bcfc9-2a63-46a6-ae2f-aa5e803ea6b1",
   "metadata": {},
   "outputs": [],
   "source": [
    "# Generate the list of URLs programmatically\n",
    "base_url = 'https://www.the-numbers.com/box-office-star-records/domestic/lifetime-acting/top-grossing-supporting-stars'\n",
    "page_urls = [base_url] + [f'{base_url}/{i}' for i in range(101,70100,100)]"
   ]
  },
  {
   "cell_type": "code",
   "execution_count": null,
   "id": "6dec0af8-e83d-4004-a126-b22336bfdc16",
   "metadata": {},
   "outputs": [],
   "source": [
    "data_supporting_list = []\n",
    "\n",
    "for page_url in page_urls:\n",
    "    print(f\"Processing: {page_url}\")\n",
    "    data_supporting_list.extend(get_data(page_url))"
   ]
  },
  {
   "cell_type": "code",
   "execution_count": null,
   "id": "b10b135d-98e8-4abb-aa8c-3b58270d1955",
   "metadata": {},
   "outputs": [],
   "source": [
    "with open('../data/the_number_supporting_cast_raw_data.csv','w',newline='',encoding='utf-8') as file:\n",
    "    writer = csv.DictWriter(file,fieldnames = ['name','domestic_gross','num_movies','avg_gross'])\n",
    "    writer.writeheader()\n",
    "    writer.writerows(data_supporting_list)"
   ]
  },
  {
   "cell_type": "markdown",
   "id": "ebf8cb60-9338-4913-8ac8-96396d9b17e6",
   "metadata": {},
   "source": [
    "# Consumer Price Index"
   ]
  },
  {
   "cell_type": "code",
   "execution_count": null,
   "id": "9f383261-2daf-466e-9047-117b460cce18",
   "metadata": {},
   "outputs": [],
   "source": [
    "page_url = 'https://www.minneapolisfed.org/about-us/monetary-policy/inflation-calculator/consumer-price-index-1913-'\n",
    "web_request = requests.get(page_url, headers={'User-agent':'ABC'}).text\n",
    "soup = BeautifulSoup(web_request)"
   ]
  },
  {
   "cell_type": "code",
   "execution_count": null,
   "id": "8a4ff880-c6f5-4ed2-8918-d3c25709d32f",
   "metadata": {},
   "outputs": [],
   "source": [
    "# Find the table body and rows\n",
    "table = soup.find('tbody')\n",
    "rows = table.find_all('tr')"
   ]
  },
  {
   "cell_type": "code",
   "execution_count": null,
   "id": "a96b88df-bd17-4f1b-8a1d-139dd8f8c24b",
   "metadata": {},
   "outputs": [],
   "source": [
    "# Extract headers\n",
    "headers = [header.text.strip() for header in rows[0].find_all('th')]\n",
    "\n",
    "# Extract data\n",
    "data_list = []\n",
    "for row in rows[1:]:  # Skip the header row\n",
    "    cols = row.find_all('div')  # Look for <div> elements within the <td> tags\n",
    "    if cols:\n",
    "        year = cols[0].text.strip()\n",
    "        cpi = cols[1].text.strip()\n",
    "        inflation = cols[2].text.strip() if len(cols) > 2 else \"\"\n",
    "        data_list.append({\n",
    "            \"year\": year,\n",
    "            \"cpi\": cpi,\n",
    "            \"rate_of_inflation\": inflation\n",
    "        })"
   ]
  },
  {
   "cell_type": "code",
   "execution_count": null,
   "id": "8a2b3e9c-bd81-4ecd-8dce-3c9de4945ec4",
   "metadata": {},
   "outputs": [],
   "source": [
    "with open('../data/consumer_price_index.csv','w',newline='',encoding='utf-8') as file:\n",
    "    writer = csv.DictWriter(file,fieldnames = ['year','cpi','rate_of_inflation'])\n",
    "    writer.writeheader()\n",
    "    writer.writerows(data_list)"
   ]
  },
  {
   "cell_type": "markdown",
   "id": "410c4d57-cdc4-4925-8839-1940b62bd432",
   "metadata": {},
   "source": [
    "# DIRECTOR GENDER BENCHMARK"
   ]
  },
  {
   "cell_type": "markdown",
   "id": "45176ede-d38a-458c-8033-274f8c64d093",
   "metadata": {},
   "source": [
    "## BBC"
   ]
  },
  {
   "cell_type": "code",
   "execution_count": null,
   "id": "a63e3eaf-0533-48b6-b3aa-08ab93b151f9",
   "metadata": {},
   "outputs": [],
   "source": [
    "page_url = 'https://www.bbc.com/culture/article/20191125-the-100-greatest-films-directed-by-women-poll'\n",
    "web_request = requests.get(page_url, headers = {'User-agent':'ABC'}).text\n",
    "soup = BeautifulSoup(web_request)"
   ]
  },
  {
   "cell_type": "code",
   "execution_count": null,
   "id": "78125fba-298a-47e5-8870-b60b51240244",
   "metadata": {},
   "outputs": [],
   "source": [
    "p_tags = soup.find_all('p', attrs={'class':'sc-eb7bd5f6-0 fYAfXe'})"
   ]
  },
  {
   "cell_type": "code",
   "execution_count": null,
   "id": "32a105e1-f037-4876-ad57-89dde535c695",
   "metadata": {},
   "outputs": [],
   "source": [
    "# Extract the movie list\n",
    "movies = []\n",
    "for p in p_tags:\n",
    "    text = p.get_text().strip()\n",
    "    # Check for the format of the list items: starts with a number and ends with details in parentheses\n",
    "    if text and text[0].isdigit() and '(' in text and ')' in text:\n",
    "        movies.append(text)"
   ]
  },
  {
   "cell_type": "code",
   "execution_count": null,
   "id": "2f9ec8e8-d576-4a50-88e5-26345b19a911",
   "metadata": {},
   "outputs": [],
   "source": [
    "# List to store extracted details\n",
    "data_list = []\n",
    "\n",
    "for text in movies:\n",
    "    # Split and process the string\n",
    "    title = text.split(\".\")[1].split(\"(\")[0].strip()  # Extract the title\n",
    "    rest = text.split(\"(\")[1].strip()  # Extract the part after '('\n",
    "    if \"(\" in text and \",\" in rest:\n",
    "        director = rest.split(\",\")[0].strip()  # Extract the director's name\n",
    "        release_year = rest.split(\",\")[1].split(\")\")[0].strip()  # Extract the release year\n",
    "        data_list.append({\n",
    "            'title': title,\n",
    "            'director_name': director,\n",
    "            'release_year': release_year\n",
    "        })"
   ]
  },
  {
   "cell_type": "code",
   "execution_count": null,
   "id": "6b906097-c8ff-4dd8-aace-cfba308f5108",
   "metadata": {},
   "outputs": [],
   "source": [
    "with open('../data/index_bbc_raw_data.csv','w',newline='',encoding='utf-8') as file:\n",
    "    writer = csv.DictWriter(file,fieldnames = ['title','director_name','release_year'])\n",
    "    writer.writeheader()\n",
    "    writer.writerows(data_list)"
   ]
  },
  {
   "cell_type": "markdown",
   "id": "cd9dc68f-077d-4f9d-9264-5a5bb4ed95e7",
   "metadata": {},
   "source": [
    "## Billboard"
   ]
  },
  {
   "cell_type": "code",
   "execution_count": null,
   "id": "7e70ab80-3bfb-402c-867c-58ec17b47134",
   "metadata": {},
   "outputs": [],
   "source": [
    "pip install selenium"
   ]
  },
  {
   "cell_type": "code",
   "execution_count": null,
   "id": "3f41f9b8-aa48-4e33-b8c2-325b2d899c91",
   "metadata": {},
   "outputs": [],
   "source": [
    "# URL of the webpage\n",
    "page_url = 'https://www.billboard.com/lists/barbie-highest-grossing-films-women-directors-top-30-all-time-billboard-list'"
   ]
  },
  {
   "cell_type": "code",
   "execution_count": null,
   "id": "d1ea17bd-b361-43c8-8832-07e29ffe8663",
   "metadata": {},
   "outputs": [],
   "source": [
    "# Set up Selenium WebDriver\n",
    "driver = webdriver.Chrome()  # Make sure ChromeDriver is installed and in PATH\n",
    "driver.get(page_url)"
   ]
  },
  {
   "cell_type": "code",
   "execution_count": null,
   "id": "08d09dda-1683-416f-a61d-ebcb21b276cf",
   "metadata": {},
   "outputs": [],
   "source": [
    "# Wait for the page to fully load (adjust time if necessary)\n",
    "time.sleep(5)"
   ]
  },
  {
   "cell_type": "code",
   "execution_count": null,
   "id": "6a6900dc-d155-4ce8-a000-8d5037ad9bec",
   "metadata": {},
   "outputs": [],
   "source": [
    "# Parse the rendered page content with BeautifulSoup\n",
    "soup = BeautifulSoup(driver.page_source, 'html.parser')"
   ]
  },
  {
   "cell_type": "code",
   "execution_count": null,
   "id": "6f938b0a-8b62-4823-96c7-9da628369d50",
   "metadata": {},
   "outputs": [],
   "source": [
    "# Find the desired div by its class\n",
    "gallery_slides = soup.find(attrs={'class': 'c-gallery-vertical__slides'})"
   ]
  },
  {
   "cell_type": "code",
   "execution_count": null,
   "id": "6b491ba2-69d6-4ac8-aaf1-170530a37368",
   "metadata": {},
   "outputs": [],
   "source": [
    "data_list = []\n",
    "# Iterate over each movie slide in the gallery\n",
    "for movie in gallery_slides.find_all('div', class_='c-gallery-vertical__slide-wrapper'):\n",
    "    # Extract title and release year\n",
    "    title_text = movie.find('h2', attrs={'class': 'c-gallery-vertical-featured-image__title'}).text.strip()\n",
    "    title, release_year = title_text.rsplit('(', 1)\n",
    "    title = title.strip()\n",
    "    release_year = release_year.replace(')', '').strip()\n",
    "    \n",
    "    # Extract director name specific to this movie\n",
    "    director_tag = movie.find('p', class_='paragraph larva // lrv-u-margin-lr-auto lrv-a-font-body-m')\n",
    "    if director_tag and 'Director:' in director_tag.text:\n",
    "        director_name = director_tag.text.replace('Director:', '').strip()\n",
    "    else:\n",
    "        director_name = None  # Handle missing director information\n",
    "        \n",
    "    # Append to the list\n",
    "    data_list.append({\n",
    "        'title': title,\n",
    "        'release_year': release_year,\n",
    "        'director_name': director_name\n",
    "    })"
   ]
  },
  {
   "cell_type": "code",
   "execution_count": null,
   "id": "4efe1ae6-56ef-4aa7-adb4-a780de12e368",
   "metadata": {},
   "outputs": [],
   "source": [
    "with open('../data/index_billboard_raw_data.csv','w',newline='',encoding='utf-8') as file:\n",
    "    writer = csv.DictWriter(file,fieldnames = ['title','release_year','director_name'])\n",
    "    writer.writeheader()\n",
    "    writer.writerows(data_list)"
   ]
  },
  {
   "cell_type": "markdown",
   "id": "3e1ffa7c-8277-49b6-8426-525f5a7ba489",
   "metadata": {},
   "source": [
    "## Indiewire"
   ]
  },
  {
   "cell_type": "code",
   "execution_count": null,
   "id": "8d1bf95e-adec-4cc7-b1ed-17cfb29de4ff",
   "metadata": {},
   "outputs": [],
   "source": [
    "page_url = 'https://www.indiewire.com/feature/female-directors-best-movies-directed-by-women-1202045399/'\n",
    "web_request = requests.get(page_url, headers = {'User-agent':'ABC'}).text\n",
    "soup = BeautifulSoup(web_request)"
   ]
  },
  {
   "cell_type": "code",
   "execution_count": null,
   "id": "ebc6fcc1-69dd-4e98-8a20-4a888f90912e",
   "metadata": {},
   "outputs": [],
   "source": [
    "movie_list = soup.find_all('h3')"
   ]
  },
  {
   "cell_type": "code",
   "execution_count": null,
   "id": "953f77f2-ea28-478a-9cd3-bfec967ed16c",
   "metadata": {},
   "outputs": [],
   "source": [
    "movies = []\n",
    "for h3 in movie_list:\n",
    "    text = h3.get_text()\n",
    "    if \"“\" in text and \"”\" in text:  # Check if the format matches\n",
    "        title = text.split(\"“\")[1].split(\"”\")[0]  # Extract the title\n",
    "        rest = text.split(\"”\")[1].strip()\n",
    "        if \"(\" in rest and \",\" in rest:\n",
    "            director = rest.split(\"(\")[1].split(\",\")[0].strip()\n",
    "            release_year = rest.split(\",\")[-1].split(\")\")[0].strip()\n",
    "            movies.append({\n",
    "                'title': title,\n",
    "                'director_name': director,\n",
    "                'release_year': release_year\n",
    "            })"
   ]
  },
  {
   "cell_type": "code",
   "execution_count": null,
   "id": "672a67cc-6b77-4864-8de7-ea4e39e56b06",
   "metadata": {},
   "outputs": [],
   "source": [
    "# List to store extracted details\n",
    "data_list = []\n",
    "\n",
    "for text in movies:\n",
    "    # Split and process the string\n",
    "    title = text.split(\".\")[1].split(\"(\")[0].strip()  # Extract the title\n",
    "    rest = text.split(\"(\")[1].strip()  # Extract the part after '('\n",
    "    if \"(\" in text and \",\" in rest:\n",
    "        director = rest.split(\",\")[0].strip()  # Extract the director's name\n",
    "        release_year = rest.split(\",\")[1].split(\")\")[0].strip()  # Extract the release year\n",
    "        data_list.append({\n",
    "            'title': title,\n",
    "            'director_name': director,\n",
    "            'release_year': release_year\n",
    "        })"
   ]
  },
  {
   "cell_type": "code",
   "execution_count": null,
   "id": "f2d53941-9107-4845-b2df-f6ee269398cd",
   "metadata": {},
   "outputs": [],
   "source": [
    "with open('../data/index_indiewire_raw_data.csv','w',newline='',encoding='utf-8') as file:\n",
    "    writer = csv.DictWriter(file,fieldnames = ['title','director_name','release_year'])\n",
    "    writer.writeheader()\n",
    "    writer.writerows(data_list)"
   ]
  },
  {
   "cell_type": "markdown",
   "id": "0e721100-5aef-4413-b173-2c70b600c8cd",
   "metadata": {},
   "source": [
    "## Rotten Tomatoes"
   ]
  },
  {
   "cell_type": "code",
   "execution_count": null,
   "id": "dd2c4641-a35b-489a-a2be-70a0b22c7eec",
   "metadata": {},
   "outputs": [],
   "source": [
    "page_url = 'https://editorial.rottentomatoes.com/guide/best-movies-directed-by-women-of-the-21st-century/'\n",
    "web_request = requests.get(page_url, headers = {'User-agent':'ABC'}).text\n",
    "soup = BeautifulSoup(web_request)"
   ]
  },
  {
   "cell_type": "code",
   "execution_count": null,
   "id": "34457ad2-5101-4718-bebb-278267f8e4ca",
   "metadata": {},
   "outputs": [],
   "source": [
    "# Find all sections with class 'row countdown-item'\n",
    "sections = soup.find_all('div', class_='row countdown-item')"
   ]
  },
  {
   "cell_type": "code",
   "execution_count": null,
   "id": "aa35aca1-56c9-4db8-b486-36833019d766",
   "metadata": {},
   "outputs": [],
   "source": [
    "def get_data(page_url):\n",
    "    # Fetch the page content\n",
    "    response = requests.get(page_url, headers={'User-Agent': 'ABC'}).text\n",
    "    soup = BeautifulSoup(response)\n",
    "\n",
    "    # Find all sections with class 'row countdown-item'\n",
    "    sections = soup.find_all('div', class_='row countdown-item')\n",
    "\n",
    "    # List to store scraped data\n",
    "    data_list = []\n",
    "\n",
    "    # Iterate over each movie section\n",
    "    for section in sections:\n",
    "        # Extract movie title\n",
    "        title_tag = section.find('h2')\n",
    "        title = title_tag.find('a').text.strip() if title_tag and title_tag.find('a') else None\n",
    "\n",
    "        # Extract director information\n",
    "        director_section = section.find('div', class_='info director')\n",
    "        director_tag = director_section.find('a') if director_section else None\n",
    "        director_name = director_tag.text.strip() if director_tag else None\n",
    "\n",
    "        # Extract cast information\n",
    "        cast_section = section.find('div', class_='info cast')\n",
    "        cast_tags = cast_section.find_all('a') if cast_section else []\n",
    "        cast_names = [cast.text.strip() for cast in cast_tags]\n",
    "        cast_string = ', '.join(cast_names)  # Convert list to comma-separated string\n",
    "\n",
    "        # Append the extracted data to the list\n",
    "        data_list.append({\n",
    "            'title': title,\n",
    "            'director': director_name,\n",
    "            'cast': cast_names\n",
    "        })\n",
    "    \n",
    "    return data_list"
   ]
  },
  {
   "cell_type": "code",
   "execution_count": null,
   "id": "3e5fcc85-1d14-49ad-8c6e-3e564b0f3a54",
   "metadata": {},
   "outputs": [],
   "source": [
    "all_data = []\n",
    "urls = [\n",
    "    'https://editorial.rottentomatoes.com/guide/best-movies-directed-by-women-of-the-21st-century/',\n",
    "    'https://editorial.rottentomatoes.com/guide/best-movies-directed-by-women-of-the-21st-century/2/',\n",
    "    'https://editorial.rottentomatoes.com/guide/best-movies-directed-by-women-of-the-21st-century/3/'\n",
    "]"
   ]
  },
  {
   "cell_type": "code",
   "execution_count": null,
   "id": "5efcedcf-5aaa-4c43-8fe2-3f2fb8725837",
   "metadata": {},
   "outputs": [],
   "source": [
    "for url in urls:\n",
    "    print(f\"Scraping: {url}\")\n",
    "    all_data.extend(get_data(url))\n",
    "    time.sleep(2)"
   ]
  },
  {
   "cell_type": "code",
   "execution_count": null,
   "id": "75f46fc7-edc0-4f9c-adcd-cebf6177345c",
   "metadata": {},
   "outputs": [],
   "source": [
    "with open('../data/index_rotten_tomatoes_raw_data.csv','w',newline='',encoding='utf-8') as file:\n",
    "    writer = csv.DictWriter(file, fieldnames = ['title','director','cast'])\n",
    "    writer.writeheader()\n",
    "    writer.writerows(all_data)"
   ]
  },
  {
   "cell_type": "markdown",
   "id": "1a4c3614-0cd7-4d2d-8500-1a1e3a0a19b1",
   "metadata": {},
   "source": [
    "## Wiki"
   ]
  },
  {
   "cell_type": "code",
   "execution_count": null,
   "id": "19eecbe6-1d4b-4e54-acbb-9073703e2c94",
   "metadata": {},
   "outputs": [],
   "source": [
    "page_url = 'https://en.wikipedia.org/wiki/List_of_female_film_and_television_directors'\n",
    "web_request = requests.get(page_url, headers = {'User-agent':'ABC'}).text\n",
    "soup = BeautifulSoup(web_request)"
   ]
  },
  {
   "cell_type": "code",
   "execution_count": null,
   "id": "3fdeceb8-cba6-49e2-87e8-ee77ad16daab",
   "metadata": {},
   "outputs": [],
   "source": [
    "table = soup.find_all(attrs={'class':'div-col'})"
   ]
  },
  {
   "cell_type": "code",
   "execution_count": null,
   "id": "cedba1d6-48e7-4d47-88ba-0885e7aadd92",
   "metadata": {},
   "outputs": [],
   "source": [
    "data_list = []\n",
    "\n",
    "# Loop through each <li> tag inside the table\n",
    "for section in table:\n",
    "    for li in section.find_all('li'):  # Iterate through each <li>\n",
    "        # Find the <a> tag within the <li> (this contains the director's name)\n",
    "        director_tag = li.find('a')\n",
    "        if director_tag:\n",
    "            director_name = director_tag.text.strip()  # Extract clean director name\n",
    "            data_list.append({\n",
    "                'director_name': director_name\n",
    "            })"
   ]
  },
  {
   "cell_type": "code",
   "execution_count": null,
   "id": "3d48d165-cd09-4da3-ab19-cc49667f661e",
   "metadata": {},
   "outputs": [],
   "source": [
    "with open('../data/wiki_raw_data.csv','w',newline='',encoding='utf-8') as file:\n",
    "    writer = csv.DictWriter(file, fieldnames = ['director_name'])\n",
    "    writer.writeheader()\n",
    "    writer.writerows(data_list)"
   ]
  }
 ],
 "metadata": {
  "kernelspec": {
   "display_name": "Python 3 (ipykernel)",
   "language": "python",
   "name": "python3"
  },
  "language_info": {
   "codemirror_mode": {
    "name": "ipython",
    "version": 3
   },
   "file_extension": ".py",
   "mimetype": "text/x-python",
   "name": "python",
   "nbconvert_exporter": "python",
   "pygments_lexer": "ipython3",
   "version": "3.12.4"
  }
 },
 "nbformat": 4,
 "nbformat_minor": 5
}
